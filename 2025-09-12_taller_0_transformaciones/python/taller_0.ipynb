{
  "nbformat": 4,
  "nbformat_minor": 0,
  "metadata": {
    "colab": {
      "provenance": []
    },
    "kernelspec": {
      "name": "python3",
      "display_name": "Python 3"
    },
    "language_info": {
      "name": "python"
    }
  },
  "cells": [
    {
      "cell_type": "code",
      "source": [
        "!pip install imageio"
      ],
      "metadata": {
        "colab": {
          "base_uri": "https://localhost:8080/"
        },
        "id": "1uIitCshTLIh",
        "outputId": "1bc06f5a-5c48-4181-9d4b-459b7d84e611"
      },
      "execution_count": 1,
      "outputs": [
        {
          "output_type": "stream",
          "name": "stdout",
          "text": [
            "Requirement already satisfied: imageio in /usr/local/lib/python3.12/dist-packages (2.37.0)\n",
            "Requirement already satisfied: numpy in /usr/local/lib/python3.12/dist-packages (from imageio) (2.0.2)\n",
            "Requirement already satisfied: pillow>=8.3.2 in /usr/local/lib/python3.12/dist-packages (from imageio) (11.3.0)\n"
          ]
        }
      ]
    },
    {
      "cell_type": "code",
      "execution_count": 6,
      "metadata": {
        "colab": {
          "base_uri": "https://localhost:8080/"
        },
        "id": "jMXYqMlmS3y7",
        "outputId": "30a713f0-3057-4048-9643-2d62617a8a8f"
      },
      "outputs": [
        {
          "output_type": "stream",
          "name": "stderr",
          "text": [
            "/tmp/ipython-input-1109910685.py:56: DeprecationWarning: Starting with ImageIO v3 the behavior of this function will switch to that of iio.v3.imread. To keep the current behavior (and make this warning disappear) use `import imageio.v2 as imageio` or call `imageio.v2.imread` directly.\n",
            "  frames.append(imageio.imread(filename))\n"
          ]
        }
      ],
      "source": [
        "import numpy as np\n",
        "import matplotlib.pyplot as plt\n",
        "import imageio\n",
        "from math import cos, sin, pi\n",
        "# Figura: Triangulo\n",
        "triangle = np.array([\n",
        "    [0, 0, 1],\n",
        "    [1, 0, 1],\n",
        "    [0.5, 1, 1],\n",
        "    [0, 0, 1]\n",
        "]).T\n",
        "# Funciones\n",
        "def traslation(tx, ty):\n",
        "    return np.array([\n",
        "        [1, 0, tx],\n",
        "        [0, 1, ty],\n",
        "        [0, 0, 1]\n",
        "    ])\n",
        "def rotation(theta):\n",
        "    return np.array([\n",
        "        [cos(theta), -sin(theta), 0],\n",
        "        [sin(theta),  cos(theta), 0],\n",
        "        [0, 0, 1]\n",
        "    ])\n",
        "def scale(sx, sy):\n",
        "    return np.array([\n",
        "        [sx, 0, 0],\n",
        "        [0, sy, 0],\n",
        "        [0, 0, 1]\n",
        "    ])\n",
        "# Transformacion y Guardar frames (30 cantidad de frames)\n",
        "frames = []\n",
        "n_frames = 30\n",
        "for t in range(n_frames):\n",
        "    angle = 2 * pi * (t / n_frames)\n",
        "    tx = 2 * np.sin(2 * pi * t / n_frames)\n",
        "    ty = 2 * np.cos(2 * pi * t / n_frames)\n",
        "    scaleT = 1 + 0.5 * np.sin(2 * pi * t / n_frames)\n",
        "\n",
        "    T = traslation(tx, ty) @ rotation(angle) @ scale(scaleT, scaleT)\n",
        "    transformed = T @ triangle\n",
        "    fig, ax = plt.subplots(figsize=(4, 4))\n",
        "    ax.plot(transformed[0, :], transformed[1, :], 'ro-')\n",
        "    ax.set_xlim(-4, 4)\n",
        "    ax.set_ylim(-4, 4)\n",
        "    ax.set_aspect(\"equal\")\n",
        "    ax.set_title(f\"Frame {t+1}\\nMatriz:\\n{np.round(T, 2)}\")\n",
        "    plt.grid(True)\n",
        "\n",
        "    filename = f\"frame_{t}.png\"\n",
        "    plt.savefig(filename)\n",
        "    plt.close(fig)\n",
        "    frames.append(imageio.imread(filename))\n",
        "\n",
        "imageio.mimsave(\"triangulo.gif\", frames, duration=3)\n",
        "\n"
      ]
    }
  ]
}